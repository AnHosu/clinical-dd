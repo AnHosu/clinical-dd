{
 "cells": [
  {
   "cell_type": "code",
   "execution_count": 97,
   "metadata": {},
   "outputs": [],
   "source": [
    "import arviz as az\n",
    "import matplotlib.pyplot as plt\n",
    "import numpy as np\n",
    "import pandas as pd\n",
    "from scipy.stats import gaussian_kde\n",
    "import stan\n",
    "\n",
    "## These are needed when running in a notebook\n",
    "import nest_asyncio\n",
    "nest_asyncio.apply()"
   ]
  },
  {
   "cell_type": "code",
   "execution_count": 2,
   "metadata": {},
   "outputs": [],
   "source": [
    "# Load data set\n",
    "country = pd.read_parquet(\"data/country.parquet\").set_index(\"country_id\")\n",
    "target = pd.read_parquet(\"data/target.parquet\").set_index([\"trial_id\", \"site_id\"])\n",
    "site = pd.read_parquet(\"data/trial_site.parquet\")\n",
    "trial = pd.read_parquet(\"data/trial.parquet\").set_index(\"trial_id\")\n",
    "df = site.join(trial, on=\"trial_id\").join(target, on=[\"trial_id\", \"site_id\"]).join(country, on=\"country_id\")\n"
   ]
  },
  {
   "cell_type": "code",
   "execution_count": 3,
   "metadata": {},
   "outputs": [],
   "source": [
    "# Define target variable\n",
    "df[\"enrolment_speed\"] = df[\"no_of_patients\"] / df[\"enrolment_months\"]\n",
    "df.loc[df[\"enrolment_speed\"] <= 0, \"enrolment_speed\"] = np.NaN"
   ]
  },
  {
   "cell_type": "markdown",
   "metadata": {},
   "source": [
    "We will be assuming a normal distribution for the target variable. This is a massive oversimplification, as we should at least account for zero-inflated outcomes. Zero-inflated Poisson might be a better choice here."
   ]
  },
  {
   "cell_type": "code",
   "execution_count": 14,
   "metadata": {},
   "outputs": [
    {
     "data": {
      "image/png": "[encoded data removed]",
      "text/plain": [
       "<Figure size 640x480 with 1 Axes>"
      ]
     },
     "metadata": {},
     "output_type": "display_data"
    }
   ],
   "source": [
    "plt.hist(df[\"enrolment_speed\"], bins=30)\n",
    "plt.show()"
   ]
  },
  {
   "cell_type": "code",
   "execution_count": 7,
   "metadata": {},
   "outputs": [],
   "source": [
    "# Do something about the extreme values\n",
    "target_stats = df[\"enrolment_speed\"].describe()\n",
    "iqr = target_stats[\"75%\"] - target_stats[\"25%\"]\n",
    "three_sigma_upper = target_stats[\"75%\"] + 1.5 * iqr\n",
    "three_sigma_lower = max(target_stats[\"25%\"] - 1.5 * iqr, 0)"
   ]
  },
  {
   "cell_type": "code",
   "execution_count": 8,
   "metadata": {},
   "outputs": [],
   "source": [
    "# Tag sites that need to be imputed\n",
    "df[\"impute\"] = np.logical_or(np.logical_or(df[\"enrolment_speed\"] < three_sigma_lower, df[\"enrolment_speed\"] > three_sigma_upper), df[\"enrolment_speed\"].isna())"
   ]
  },
  {
   "cell_type": "code",
   "execution_count": 13,
   "metadata": {},
   "outputs": [
    {
     "data": {
      "image/png": "[encoded data removed]",
      "text/plain": [
       "<Figure size 640x480 with 1 Axes>"
      ]
     },
     "metadata": {},
     "output_type": "display_data"
    }
   ],
   "source": [
    "plt.hist(df[\"enrolment_speed\"][np.logical_not(df[\"impute\"])])\n",
    "plt.show()"
   ]
  },
  {
   "cell_type": "markdown",
   "metadata": {},
   "source": [
    "Yea, that normal distribution is a long shot... however, we'll roll with it\n",
    "\n",
    "\n",
    "Next up, we need some features. I have arbitrarily chosen minimum age for the study and health expenditure per capita."
   ]
  },
  {
   "cell_type": "code",
   "execution_count": 15,
   "metadata": {},
   "outputs": [],
   "source": [
    "# Feature engineering\n",
    "features = df[[\"site_id\", \"trial_id\", \"enrolment_speed\", \"impute\", \"minimum_age\", \"who_gho_ghed_che_pc_ppp_sha2011_curr_health_exp_per_capita_ppp\"]].rename(columns={\n",
    "    \"who_gho_ghed_che_pc_ppp_sha2011_curr_health_exp_per_capita_ppp\": \"gdp_pc\"\n",
    "})\n",
    "features = features[np.logical_not(features[\"gdp_pc\"].isna())]"
   ]
  },
  {
   "cell_type": "markdown",
   "metadata": {},
   "source": [
    "We extract our features and do a quick and dirty normalisation"
   ]
  },
  {
   "cell_type": "code",
   "execution_count": 16,
   "metadata": {},
   "outputs": [],
   "source": [
    "# Sites with complete data\n",
    "complete = features[np.logical_not(features[\"impute\"])].copy()\n",
    "complete[\"minimum_age\"] = complete[\"minimum_age\"] - min(complete[\"minimum_age\"])\n",
    "max_observed_speed = max(complete[\"enrolment_speed\"])\n",
    "complete[\"enrolment_speed\"] = complete[\"enrolment_speed\"] / max_observed_speed\n",
    "max_gdp_pc = max(complete[\"gdp_pc\"])\n",
    "complete[\"gdp_pc\"] = complete[\"gdp_pc\"] / max_gdp_pc\n",
    "\n",
    "# Sites to be imputed\n",
    "incomplete = features[features[\"impute\"]].copy()\n",
    "incomplete[\"minimum_age\"] = incomplete[\"minimum_age\"] - min(incomplete[\"minimum_age\"])\n",
    "incomplete[\"gdp_pc\"] = incomplete[\"gdp_pc\"] / max_gdp_pc"
   ]
  },
  {
   "cell_type": "markdown",
   "metadata": {},
   "source": [
    "Model time!"
   ]
  },
  {
   "cell_type": "code",
   "execution_count": 17,
   "metadata": {},
   "outputs": [],
   "source": [
    "# Define a model and its data\n",
    "data = {\n",
    "    \"N\": len(complete),\n",
    "    \"N_inc\": len(incomplete),\n",
    "    \"D\": 2,\n",
    "    \"y\": complete[\"enrolment_speed\"].to_list(),\n",
    "    \"X\": complete[[\"minimum_age\", \"gdp_pc\"]].to_numpy(),\n",
    "    \"X_inc\": incomplete[[\"minimum_age\", \"gdp_pc\"]].to_numpy()\n",
    "}\n",
    "\n",
    "stan_code = \"\"\"\n",
    "// Bayesian Linear Regression\n",
    "data {\n",
    "    int<lower = 0> N;\n",
    "    int<lower = 0> N_inc;\n",
    "    vector[N] y; \n",
    "    int<lower=0> D;\n",
    "    matrix[N, D] X;  \n",
    "    matrix[N_inc, D] X_inc;\n",
    "}\n",
    "parameters {\n",
    "    vector[D] beta;\n",
    "    real<lower=0> sigma;\n",
    "}\n",
    "model {\n",
    "    sigma ~ exponential(1);\n",
    "    beta ~ normal(0, 1);\n",
    "    y ~ normal(X * beta, sigma);\n",
    "}\n",
    "generated quantities {\n",
    "    vector[N_inc] y_imputed;\n",
    "    vector[N] log_lik;\n",
    "    for (n in 1:N_inc) {\n",
    "        y_imputed[n] = X_inc[n, ] * beta;\n",
    "    }\n",
    "    for (n in 1:N) {\n",
    "        log_lik[n] = normal_lpdf(y[n] | X[n, ] * beta, sigma);\n",
    "    }\n",
    "}\n",
    "\"\"\""
   ]
  },
  {
   "cell_type": "code",
   "execution_count": 18,
   "metadata": {},
   "outputs": [
    {
     "name": "stdout",
     "output_type": "stream",
     "text": [
      "Building...\n"
     ]
    },
    {
     "name": "stderr",
     "output_type": "stream",
     "text": [
      "\n",
      "Building: found in cache, done.Sampling:   0%\n",
      "Sampling:   2% (200/8000)\n",
      "Sampling:   8% (600/8000)\n",
      "Sampling:  15% (1200/8000)\n",
      "Sampling:  20% (1600/8000)\n",
      "Sampling:  42% (3400/8000)\n",
      "Sampling:  62% (5000/8000)\n",
      "Sampling:  80% (6400/8000)\n",
      "Sampling: 100% (8000/8000)\n",
      "Sampling: 100% (8000/8000), done.\n",
      "Messages received during sampling:\n",
      "  Gradient evaluation took 7.1e-05 seconds\n",
      "  1000 transitions using 10 leapfrog steps per transition would take 0.71 seconds.\n",
      "  Adjust your expectations accordingly!\n",
      "  Informational Message: The current Metropolis proposal is about to be rejected because of the following issue:\n",
      "  Exception: normal_lpdf: Scale parameter is 0, but must be positive! (in '/tmp/httpstan_cjhzb6m9/model_jdvycpsw.stan', line 18, column 4 to column 32)\n",
      "  If this warning occurs sporadically, such as for highly constrained variable types like covariance matrices, then the sampler is fine,\n",
      "  but if this warning occurs often then your model may be either severely ill-conditioned or misspecified.\n",
      "  Informational Message: The current Metropolis proposal is about to be rejected because of the following issue:\n",
      "  Exception: normal_lpdf: Scale parameter is 0, but must be positive! (in '/tmp/httpstan_cjhzb6m9/model_jdvycpsw.stan', line 18, column 4 to column 32)\n",
      "  If this warning occurs sporadically, such as for highly constrained variable types like covariance matrices, then the sampler is fine,\n",
      "  but if this warning occurs often then your model may be either severely ill-conditioned or misspecified.\n",
      "  Gradient evaluation took 6.4e-05 seconds\n",
      "  1000 transitions using 10 leapfrog steps per transition would take 0.64 seconds.\n",
      "  Adjust your expectations accordingly!\n",
      "  Gradient evaluation took 6.3e-05 seconds\n",
      "  1000 transitions using 10 leapfrog steps per transition would take 0.63 seconds.\n",
      "  Adjust your expectations accordingly!\n",
      "  Gradient evaluation took 7.3e-05 seconds\n",
      "  1000 transitions using 10 leapfrog steps per transition would take 0.73 seconds.\n",
      "  Adjust your expectations accordingly!\n"
     ]
    }
   ],
   "source": [
    "# Fit our model and impute in one step\n",
    "posterior = stan.build(\n",
    "    program_code=stan_code,\n",
    "    data = data,\n",
    "    random_seed=4444\n",
    ")\n",
    "\n",
    "fit = posterior.sample(num_samples=1000, num_chains=4)"
   ]
  },
  {
   "cell_type": "markdown",
   "metadata": {},
   "source": [
    "Complaints about a misspecified model were to be expected\n",
    "\n",
    "Let's validate the model. We will approximate LOO-CV by estimating the Expected Log Pointwise Density (ELPD)."
   ]
  },
  {
   "cell_type": "code",
   "execution_count": 19,
   "metadata": {},
   "outputs": [
    {
     "data": {
      "text/plain": [
       "Computed from 4000 posterior samples and 879 observations log-likelihood matrix.\n",
       "\n",
       "         Estimate       SE\n",
       "elpd_loo    44.38    28.42\n",
       "p_loo        3.97        -\n",
       "------\n",
       "\n",
       "Pareto k diagnostic values:\n",
       "                         Count   Pct.\n",
       "(-Inf, 0.5]   (good)      879  100.0%\n",
       " (0.5, 0.7]   (ok)          0    0.0%\n",
       "   (0.7, 1]   (bad)         0    0.0%\n",
       "   (1, Inf)   (very bad)    0    0.0%"
      ]
     },
     "execution_count": 19,
     "metadata": {},
     "output_type": "execute_result"
    }
   ],
   "source": [
    "# Approximate Leave One Out Cross Validation\n",
    "idata = az.from_pystan(posterior=fit, posterior_model=posterior, log_likelihood=\"log_lik\")\n",
    "az.loo(idata)"
   ]
  },
  {
   "cell_type": "markdown",
   "metadata": {},
   "source": [
    "As a baseline, I imagine the case where the target variable is predicted entirely by sampling from the marginal data distributon. We can then calculate ELPD:"
   ]
  },
  {
   "cell_type": "code",
   "execution_count": 106,
   "metadata": {},
   "outputs": [
    {
     "data": {
      "text/plain": [
       "396.89196769662993"
      ]
     },
     "execution_count": 106,
     "metadata": {},
     "output_type": "execute_result"
    }
   ],
   "source": [
    "reps = 100000\n",
    "y = complete[\"enrolment_speed\"].to_numpy()\n",
    "y_sample = np.random.choice(y, size=reps, replace=True)\n",
    "likelihood = gaussian_kde(y_sample)(y)\n",
    "np.sum(np.log(likelihood))"
   ]
  },
  {
   "cell_type": "markdown",
   "metadata": {},
   "source": [
    "Not surprisingly, the model is doing worse than a random baseline\n",
    "\n",
    "The model would otherwise have given us easily interpretable parameters"
   ]
  },
  {
   "cell_type": "code",
   "execution_count": 111,
   "metadata": {},
   "outputs": [
    {
     "data": {
      "image/png": "[encoded data removed]",
      "text/plain": [
       "<Figure size 640x480 with 1 Axes>"
      ]
     },
     "metadata": {},
     "output_type": "display_data"
    }
   ],
   "source": [
    "plt.hist(fit[\"beta\"][0,:]) # Minimum age coefficient\n",
    "plt.show()"
   ]
  },
  {
   "cell_type": "markdown",
   "metadata": {},
   "source": [
    "Higher minimum age means faster recruitment?! Probably not\n",
    "\n",
    "\n",
    "We also would get a distribution for imputed target values"
   ]
  },
  {
   "cell_type": "code",
   "execution_count": 112,
   "metadata": {},
   "outputs": [
    {
     "data": {
      "image/png": "[encoded data removed]",
      "text/plain": [
       "<Figure size 640x480 with 1 Axes>"
      ]
     },
     "metadata": {},
     "output_type": "display_data"
    }
   ],
   "source": [
    "plt.hist(fit[\"y_imputed\"][0,:])\n",
    "plt.show()"
   ]
  }
 ],
 "metadata": {
  "kernelspec": {
   "display_name": ".venv",
   "language": "python",
   "name": "python3"
  },
  "language_info": {
   "codemirror_mode": {
    "name": "ipython",
    "version": 3
   },
   "file_extension": ".py",
   "mimetype": "text/x-python",
   "name": "python",
   "nbconvert_exporter": "python",
   "pygments_lexer": "ipython3",
   "version": "3.11.8"
  }
 },
 "nbformat": 4,
 "nbformat_minor": 2
}
